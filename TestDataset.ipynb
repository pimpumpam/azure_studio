{
  "cells": [
    {
      "cell_type": "code",
      "source": [
        "from azure.identity import DefaultAzureCredential\n",
        "from azure.ai.ml import MLClient\n",
        "from azure.ai.ml.entities import Data, Datastore\n",
        "from azure.ai.ml.entities import OneLakeDatastore, OneLakeArtifact\n",
        "from azure.ai.ml.constants import AssetTypes, InputOutputModes\n",
        "from azureml.fsspec import AzureMachineLearningFileSystem\n",
        "import pandas as pd\n",
        "import fsspec\n",
        "import mltable"
      ],
      "outputs": [],
      "execution_count": 1,
      "metadata": {
        "gather": {
          "logged": 1718348039365
        }
      }
    },
    {
      "cell_type": "code",
      "source": [
        "client = MLClient.from_config(credential=DefaultAzureCredential(), path=\".\")\n",
        "ws = client.workspaces.get(name=client.workspace_name)\n",
        "print(ws.name)"
      ],
      "outputs": [
        {
          "output_type": "stream",
          "name": "stderr",
          "text": "Found the config file in: /mnt/batch/tasks/shared/LS_root/mounts/clusters/e4s-4c32g/code/.azureml/config.json\n"
        },
        {
          "output_type": "stream",
          "name": "stdout",
          "text": "ml_test\n"
        }
      ],
      "execution_count": 6,
      "metadata": {
        "jupyter": {
          "source_hidden": false,
          "outputs_hidden": false
        },
        "nteract": {
          "transient": {
            "deleting": false
          }
        },
        "gather": {
          "logged": 1718334350412
        }
      }
    },
    {
      "cell_type": "markdown",
      "source": [
        "## Connect To OneLake\n"
      ],
      "metadata": {
        "nteract": {
          "transient": {
            "deleting": false
          }
        }
      }
    },
    {
      "cell_type": "code",
      "source": [
        "store = OneLakeDatastore(\n",
        "    name=\"KTDataLake\",\n",
        "    description=\"Datastore pointing to an Microsoft fabric artifact.\",\n",
        "    one_lake_workspace_name=\"6558a001-c860-4020-8ab1-1e5ae1f48456\",\n",
        "    endpoint=\"onelake.dfs.fabric.microsoft.com\",\n",
        "    artifact = OneLakeArtifact(\n",
        "        name=\"1202190f-974b-4175-b882-5ca0c26760f4/Files\",\n",
        "        type=\"lake_house\"\n",
        "    )\n",
        ")\n",
        "\n",
        "client.create_or_update(store)"
      ],
      "outputs": [],
      "execution_count": null,
      "metadata": {
        "jupyter": {
          "source_hidden": false,
          "outputs_hidden": false
        },
        "nteract": {
          "transient": {
            "deleting": false
          }
        }
      }
    },
    {
      "cell_type": "code",
      "source": [
        "# create paths to the data files\n",
        "paths = [{\"file\": \"wasbs://data@azuremlexampledata.blob.core.windows.net/titanic.csv\"}]\n",
        "\n",
        "# create an MLTable from the data files\n",
        "tbl = mltable.from_delimited_files(\n",
        "    paths=paths,\n",
        "    delimiter=\",\",\n",
        "    header=MLTableHeaders.all_files_same_headers,\n",
        "    infer_column_types=True,\n",
        "    include_path_column=False,\n",
        "    encoding=MLTableFileEncoding.utf8,\n",
        ")"
      ],
      "outputs": [],
      "execution_count": null,
      "metadata": {
        "jupyter": {
          "source_hidden": false,
          "outputs_hidden": false
        },
        "nteract": {
          "transient": {
            "deleting": false
          }
        }
      }
    },
    {
      "cell_type": "code",
      "source": [
        "data_set = client.data.get(\"nmsdata_onelakeV2\", version=\"6\")\n",
        "\n",
        "tbl = mltable.load(data_set.path)\n",
        "\n",
        "df = tbl.to_pandas_dataframe()\n",
        "df"
      ],
      "outputs": [
        {
          "output_type": "execute_result",
          "execution_count": 9,
          "data": {
            "text/plain": "                         시간       RU영문명  RRC 시도호  MAX_UE  AirMAC DL(MB)  \\\n0       2024-04-13 06:10:00  NPKG30087S      1.0     0.0           0.00   \n1       2024-04-13 06:15:00  NPKG30087S      NaN     0.0           0.00   \n2       2024-04-13 06:20:00  NPKG30087S      2.0     0.0           0.01   \n3       2024-04-13 06:25:00  NPKG30087S      1.0     1.0           0.04   \n4       2024-04-13 06:30:00  NPKG30087S      NaN     0.0           0.00   \n...                     ...         ...      ...     ...            ...   \n1217628 2024-04-18 08:15:00  NRKG41054S      3.0     6.0           7.57   \n1217629 2024-04-18 08:20:00  NRKG41054S      6.0     5.0          38.55   \n1217630 2024-04-18 08:25:00  NRKG41054S      2.0     6.0          22.75   \n1217631 2024-04-18 08:30:00  NRKG41054S      4.0     8.0          61.44   \n1217632 2024-04-18 08:35:00  NRKG41054S      1.0     6.0          10.59   \n\n         PRB DL(%)  소비전력(Watt)  \n0             0.80      181.92  \n1             0.81      183.42  \n2             0.80      182.25  \n3             0.80      182.01  \n4             0.80      182.11  \n...            ...         ...  \n1217628       0.90      242.59  \n1217629       1.17      243.75  \n1217630       1.04      241.94  \n1217631       1.20      243.38  \n1217632       0.94      241.65  \n\n[1217633 rows x 7 columns]",
            "text/html": "<div>\n<style scoped>\n    .dataframe tbody tr th:only-of-type {\n        vertical-align: middle;\n    }\n\n    .dataframe tbody tr th {\n        vertical-align: top;\n    }\n\n    .dataframe thead th {\n        text-align: right;\n    }\n</style>\n<table border=\"1\" class=\"dataframe\">\n  <thead>\n    <tr style=\"text-align: right;\">\n      <th></th>\n      <th>시간</th>\n      <th>RU영문명</th>\n      <th>RRC 시도호</th>\n      <th>MAX_UE</th>\n      <th>AirMAC DL(MB)</th>\n      <th>PRB DL(%)</th>\n      <th>소비전력(Watt)</th>\n    </tr>\n  </thead>\n  <tbody>\n    <tr>\n      <th>0</th>\n      <td>2024-04-13 06:10:00</td>\n      <td>NPKG30087S</td>\n      <td>1.0</td>\n      <td>0.0</td>\n      <td>0.00</td>\n      <td>0.80</td>\n      <td>181.92</td>\n    </tr>\n    <tr>\n      <th>1</th>\n      <td>2024-04-13 06:15:00</td>\n      <td>NPKG30087S</td>\n      <td>NaN</td>\n      <td>0.0</td>\n      <td>0.00</td>\n      <td>0.81</td>\n      <td>183.42</td>\n    </tr>\n    <tr>\n      <th>2</th>\n      <td>2024-04-13 06:20:00</td>\n      <td>NPKG30087S</td>\n      <td>2.0</td>\n      <td>0.0</td>\n      <td>0.01</td>\n      <td>0.80</td>\n      <td>182.25</td>\n    </tr>\n    <tr>\n      <th>3</th>\n      <td>2024-04-13 06:25:00</td>\n      <td>NPKG30087S</td>\n      <td>1.0</td>\n      <td>1.0</td>\n      <td>0.04</td>\n      <td>0.80</td>\n      <td>182.01</td>\n    </tr>\n    <tr>\n      <th>4</th>\n      <td>2024-04-13 06:30:00</td>\n      <td>NPKG30087S</td>\n      <td>NaN</td>\n      <td>0.0</td>\n      <td>0.00</td>\n      <td>0.80</td>\n      <td>182.11</td>\n    </tr>\n    <tr>\n      <th>...</th>\n      <td>...</td>\n      <td>...</td>\n      <td>...</td>\n      <td>...</td>\n      <td>...</td>\n      <td>...</td>\n      <td>...</td>\n    </tr>\n    <tr>\n      <th>1217628</th>\n      <td>2024-04-18 08:15:00</td>\n      <td>NRKG41054S</td>\n      <td>3.0</td>\n      <td>6.0</td>\n      <td>7.57</td>\n      <td>0.90</td>\n      <td>242.59</td>\n    </tr>\n    <tr>\n      <th>1217629</th>\n      <td>2024-04-18 08:20:00</td>\n      <td>NRKG41054S</td>\n      <td>6.0</td>\n      <td>5.0</td>\n      <td>38.55</td>\n      <td>1.17</td>\n      <td>243.75</td>\n    </tr>\n    <tr>\n      <th>1217630</th>\n      <td>2024-04-18 08:25:00</td>\n      <td>NRKG41054S</td>\n      <td>2.0</td>\n      <td>6.0</td>\n      <td>22.75</td>\n      <td>1.04</td>\n      <td>241.94</td>\n    </tr>\n    <tr>\n      <th>1217631</th>\n      <td>2024-04-18 08:30:00</td>\n      <td>NRKG41054S</td>\n      <td>4.0</td>\n      <td>8.0</td>\n      <td>61.44</td>\n      <td>1.20</td>\n      <td>243.38</td>\n    </tr>\n    <tr>\n      <th>1217632</th>\n      <td>2024-04-18 08:35:00</td>\n      <td>NRKG41054S</td>\n      <td>1.0</td>\n      <td>6.0</td>\n      <td>10.59</td>\n      <td>0.94</td>\n      <td>241.65</td>\n    </tr>\n  </tbody>\n</table>\n<p>1217633 rows × 7 columns</p>\n</div>"
          },
          "metadata": {}
        }
      ],
      "execution_count": 9,
      "metadata": {
        "jupyter": {
          "source_hidden": false,
          "outputs_hidden": false
        },
        "nteract": {
          "transient": {
            "deleting": false
          }
        },
        "gather": {
          "logged": 1718335488852
        }
      }
    }
  ],
  "metadata": {
    "kernelspec": {
      "name": "python310-sdkv2",
      "language": "python",
      "display_name": "Python 3.10 - SDK v2"
    },
    "language_info": {
      "name": "python",
      "version": "3.10.14",
      "mimetype": "text/x-python",
      "codemirror_mode": {
        "name": "ipython",
        "version": 3
      },
      "pygments_lexer": "ipython3",
      "nbconvert_exporter": "python",
      "file_extension": ".py"
    },
    "kernel_info": {
      "name": "python310-sdkv2"
    },
    "microsoft": {
      "host": {
        "AzureML": {
          "notebookHasBeenCompleted": true
        }
      }
    },
    "nteract": {
      "version": "nteract-front-end@1.0.0"
    }
  },
  "nbformat": 4,
  "nbformat_minor": 2
}