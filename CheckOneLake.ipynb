{
  "cells": [
    {
      "cell_type": "code",
      "source": [
        "# %pip install azure-ai-ml\n",
        "# %pip install fsspec"
      ],
      "outputs": [],
      "execution_count": 3,
      "metadata": {
        "gather": {
          "logged": 1718327740356
        }
      }
    },
    {
      "cell_type": "code",
      "source": [
        "from azure.identity import DefaultAzureCredential\n",
        "from azure.ai.ml import MLClient\n",
        "from azure.ai.ml.entities import Data, Datastore\n",
        "from azure.ai.ml.entities import OneLakeDatastore, OneLakeArtifact\n",
        "from azure.ai.ml.constants import AssetTypes, InputOutputModes\n",
        "from azureml.fsspec import AzureMachineLearningFileSystem\n",
        "import pandas as pd\n",
        "import fsspec"
      ],
      "outputs": [],
      "execution_count": 8,
      "metadata": {
        "jupyter": {
          "source_hidden": false,
          "outputs_hidden": false
        },
        "nteract": {
          "transient": {
            "deleting": false
          }
        },
        "gather": {
          "logged": 1718328784642
        }
      }
    },
    {
      "cell_type": "code",
      "source": [
        "client = MLClient.from_config(credential=DefaultAzureCredential(), path=\".\")\n",
        "ws = client.workspaces.get(name=client.workspace_name)\n",
        "print(ws.name)"
      ],
      "outputs": [
        {
          "output_type": "stream",
          "name": "stderr",
          "text": "Found the config file in: /mnt/batch/tasks/shared/LS_root/mounts/clusters/e4s-4c32g/code/.azureml/config.json\n"
        },
        {
          "output_type": "stream",
          "name": "stdout",
          "text": "ml_test\n"
        }
      ],
      "execution_count": 5,
      "metadata": {
        "jupyter": {
          "source_hidden": false,
          "outputs_hidden": false
        },
        "nteract": {
          "transient": {
            "deleting": false
          }
        },
        "gather": {
          "logged": 1718327743672
        }
      }
    },
    {
      "cell_type": "code",
      "source": [
        "store = OneLakeDatastore(\n",
        "    name=\"onelake_retry3\",\n",
        "    description=\"Datastore pointing to an Microsoft fabric artifact.\",\n",
        "    one_lake_workspace_name=\"6558a001-c860-4020-8ab1-1e5ae1f48456\",\n",
        "    endpoint=\"onelake.dfs.fabric.microsoft.com\",\n",
        "    artifact = OneLakeArtifact(\n",
        "        name=\"1202190f-974b-4175-b882-5ca0c26760f4/Files\",\n",
        "        type=\"lake_house\"\n",
        "    )\n",
        ")\n",
        "\n",
        "client.create_or_update(store)"
      ],
      "outputs": [
        {
          "output_type": "execute_result",
          "execution_count": 7,
          "data": {
            "text/plain": "OneLakeDatastore({'type': <DatastoreType.ONE_LAKE: 'OneLake'>, 'name': 'onelake_retry3', 'description': 'Datastore pointing to an Microsoft fabric artifact.', 'tags': {}, 'properties': {}, 'print_as_yaml': False, 'id': '/subscriptions/05f2e45e-7783-4a5b-ad4d-c498610f67fb/resourceGroups/rgfabricpoc/providers/Microsoft.MachineLearningServices/workspaces/ml_test/datastores/onelake_retry3', 'Resource__source_path': '', 'base_path': '/mnt/batch/tasks/shared/LS_root/mounts/clusters/e4s-4c32g/code/Users/user07', 'creation_context': None, 'serialize': <msrest.serialization.Serializer object at 0x7fd227c97730>, 'credentials': <azure.ai.ml.entities._credentials.NoneCredentialConfiguration object at 0x7fd227c973d0>, 'artifact': {'name': '1202190f-974b-4175-b882-5ca0c26760f4/Files', 'type': 'lake_house'}, 'one_lake_workspace_name': '6558a001-c860-4020-8ab1-1e5ae1f48456', 'endpoint': 'onelake.dfs.fabric.microsoft.com'})"
          },
          "metadata": {}
        }
      ],
      "execution_count": 7,
      "metadata": {
        "jupyter": {
          "source_hidden": false,
          "outputs_hidden": false
        },
        "nteract": {
          "transient": {
            "deleting": false
          }
        },
        "gather": {
          "logged": 1718327758949
        }
      }
    },
    {
      "cell_type": "markdown",
      "source": [
        "### Create Data Asset"
      ],
      "metadata": {
        "nteract": {
          "transient": {
            "deleting": false
          }
        }
      }
    },
    {
      "cell_type": "code",
      "source": [
        "import mltable\n",
        "from mltable import MLTableHeaders, MLTableFileEncoding, DataType\n",
        "from azure.ai.ml import MLClient\n",
        "from azure.ai.ml.entities import Data\n",
        "from azure.ai.ml.constants import AssetTypes\n",
        "from azure.identity import DefaultAzureCredential\n",
        "\n",
        "# create paths to the data files\n",
        "paths = [{\"file\": \"wasbs://data@azuremlexampledata.blob.core.windows.net/titanic.csv\"}]\n",
        "\n",
        "# create an MLTable from the data files\n",
        "tbl = mltable.from_delimited_files(\n",
        "    paths=paths,\n",
        "    delimiter=\",\",\n",
        "    header=MLTableHeaders.all_files_same_headers,\n",
        "    infer_column_types=True,\n",
        "    include_path_column=False,\n",
        "    encoding=MLTableFileEncoding.utf8,\n",
        ")\n",
        "\n",
        "# filter out rows undefined ages\n",
        "tbl = tbl.filter(\"col('Age') > 0\")\n",
        "\n",
        "# drop PassengerId\n",
        "tbl = tbl.drop_columns([\"PassengerId\"])\n",
        "\n",
        "# ensure survived column is treated as boolean\n",
        "data_types = {\n",
        "    \"Survived\": DataType.to_bool(\n",
        "        true_values=[\"True\", \"true\", \"1\"], false_values=[\"False\", \"false\", \"0\"]\n",
        "    )\n",
        "}\n",
        "tbl = tbl.convert_column_types(data_types)\n",
        "\n",
        "# show the first few records\n",
        "print(tbl.show())\n",
        "\n",
        "# save the data loading steps in an MLTable file\n",
        "mltable_folder = \"./titanic\"\n",
        "tbl.save(mltable_folder)\n",
        "\n",
        "# Connect to the AzureML workspace\n",
        "subscription_id = \"<SUBSCRIPTION_ID>\"\n",
        "resource_group = \"<RESOURCE_GROUP>\"\n",
        "workspace = \"<AML_WORKSPACE_NAME>\"\n",
        "\n",
        "ml_client = MLClient(\n",
        "    DefaultAzureCredential(), subscription_id, resource_group, workspace\n",
        ")\n",
        "\n",
        "# Define the Data asset object\n",
        "my_data = Data(\n",
        "    path=mltable_folder,\n",
        "    type=AssetTypes.MLTABLE,\n",
        "    description=\"<ADD A DESCRIPTION HERE>\",\n",
        "    name=\"<NAME OF DATA ASSET>\",\n",
        "    version=\"<SET VERSION HERE>\",\n",
        ")\n",
        "\n",
        "# Create the data asset in the workspace\n",
        "ml_client.data.create_or_update(my_data)"
      ],
      "outputs": [],
      "execution_count": null,
      "metadata": {
        "jupyter": {
          "source_hidden": false,
          "outputs_hidden": false
        },
        "nteract": {
          "transient": {
            "deleting": false
          }
        }
      }
    }
  ],
  "metadata": {
    "kernelspec": {
      "name": "python310-sdkv2",
      "language": "python",
      "display_name": "Python 3.10 - SDK v2"
    },
    "language_info": {
      "name": "python",
      "version": "3.10.14",
      "mimetype": "text/x-python",
      "codemirror_mode": {
        "name": "ipython",
        "version": 3
      },
      "pygments_lexer": "ipython3",
      "nbconvert_exporter": "python",
      "file_extension": ".py"
    },
    "microsoft": {
      "ms_spell_check": {
        "ms_spell_check_language": "en"
      },
      "host": {
        "AzureML": {
          "notebookHasBeenCompleted": true
        }
      }
    },
    "kernel_info": {
      "name": "python310-sdkv2"
    },
    "nteract": {
      "version": "nteract-front-end@1.0.0"
    }
  },
  "nbformat": 4,
  "nbformat_minor": 2
}