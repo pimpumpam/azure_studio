{
  "cells": [
    {
      "cell_type": "code",
      "source": [
        "from azure.identity import DefaultAzureCredential\n",
        "from azure.ai.ml import MLClient\n",
        "from azure.ai.ml import automl\n",
        "from azure.ai.ml.entities import Data, Datastore\n",
        "from azure.ai.ml import Input\n",
        "from azure.ai.ml.constants import AssetTypes\n",
        "import numpy as np\n",
        "import pandas as pd\n",
        "import mltable\n",
        "import fsspec"
      ],
      "outputs": [],
      "execution_count": 1,
      "metadata": {
        "gather": {
          "logged": 1718368365371
        }
      }
    },
    {
      "cell_type": "code",
      "source": [
        "client = MLClient.from_config(credential=DefaultAzureCredential(), path=\".\")\n",
        "ws = client.workspaces.get(name=client.workspace_name)\n",
        "print(ws.name)"
      ],
      "outputs": [
        {
          "output_type": "stream",
          "name": "stderr",
          "text": "Found the config file in: /mnt/batch/tasks/shared/LS_root/mounts/clusters/e4s-4c32g/code/.azureml/config.json\n"
        },
        {
          "output_type": "stream",
          "name": "stdout",
          "text": "ml_test\n"
        }
      ],
      "execution_count": 2,
      "metadata": {
        "jupyter": {
          "source_hidden": false,
          "outputs_hidden": false
        },
        "nteract": {
          "transient": {
            "deleting": false
          }
        },
        "gather": {
          "logged": 1718368369339
        }
      }
    },
    {
      "cell_type": "code",
      "source": [
        "data_asset = client.data.get(\"nms_itg_240605\", version=\"1\")\n",
        "df = mltable.load(f'azureml:/{data_asset.id}').to_pandas_dataframe()\n",
        "df.head()"
      ],
      "outputs": [
        {
          "output_type": "execute_result",
          "execution_count": 3,
          "data": {
            "text/plain": "  five_minute_interval          RU    RRC  MAX_UE  AirMAC   PRB  Watt\n0  2024-04-28 16:50:00  NUKG33951S   34.0     8.0     NaN  1.51   NaN\n1  2024-04-28 16:50:00  NUKG33630S  121.0    12.0     NaN  2.74   NaN\n2  2024-04-28 16:50:00  NUKG33241S   72.0    13.0     NaN  1.87   NaN\n3  2024-04-28 16:50:00  NUKG33190S   51.0    11.0     NaN  3.13   NaN\n4  2024-04-28 16:50:00  NUKG39569S   45.0    19.0     NaN  4.62   NaN",
            "text/html": "<div>\n<style scoped>\n    .dataframe tbody tr th:only-of-type {\n        vertical-align: middle;\n    }\n\n    .dataframe tbody tr th {\n        vertical-align: top;\n    }\n\n    .dataframe thead th {\n        text-align: right;\n    }\n</style>\n<table border=\"1\" class=\"dataframe\">\n  <thead>\n    <tr style=\"text-align: right;\">\n      <th></th>\n      <th>five_minute_interval</th>\n      <th>RU</th>\n      <th>RRC</th>\n      <th>MAX_UE</th>\n      <th>AirMAC</th>\n      <th>PRB</th>\n      <th>Watt</th>\n    </tr>\n  </thead>\n  <tbody>\n    <tr>\n      <th>0</th>\n      <td>2024-04-28 16:50:00</td>\n      <td>NUKG33951S</td>\n      <td>34.0</td>\n      <td>8.0</td>\n      <td>NaN</td>\n      <td>1.51</td>\n      <td>NaN</td>\n    </tr>\n    <tr>\n      <th>1</th>\n      <td>2024-04-28 16:50:00</td>\n      <td>NUKG33630S</td>\n      <td>121.0</td>\n      <td>12.0</td>\n      <td>NaN</td>\n      <td>2.74</td>\n      <td>NaN</td>\n    </tr>\n    <tr>\n      <th>2</th>\n      <td>2024-04-28 16:50:00</td>\n      <td>NUKG33241S</td>\n      <td>72.0</td>\n      <td>13.0</td>\n      <td>NaN</td>\n      <td>1.87</td>\n      <td>NaN</td>\n    </tr>\n    <tr>\n      <th>3</th>\n      <td>2024-04-28 16:50:00</td>\n      <td>NUKG33190S</td>\n      <td>51.0</td>\n      <td>11.0</td>\n      <td>NaN</td>\n      <td>3.13</td>\n      <td>NaN</td>\n    </tr>\n    <tr>\n      <th>4</th>\n      <td>2024-04-28 16:50:00</td>\n      <td>NUKG39569S</td>\n      <td>45.0</td>\n      <td>19.0</td>\n      <td>NaN</td>\n      <td>4.62</td>\n      <td>NaN</td>\n    </tr>\n  </tbody>\n</table>\n</div>"
          },
          "metadata": {}
        }
      ],
      "execution_count": 3,
      "metadata": {
        "jupyter": {
          "source_hidden": false,
          "outputs_hidden": false
        },
        "nteract": {
          "transient": {
            "deleting": false
          }
        },
        "gather": {
          "logged": 1718368380563
        }
      }
    },
    {
      "cell_type": "code",
      "source": [
        "# Training MLTable defined locally, with local data to be uploaded\n",
        "data_input = Input(\n",
        "    type=AssetTypes.MLTABLE, \n",
        "    path=\"./data-small\"\n",
        ")"
      ],
      "outputs": [],
      "execution_count": 4,
      "metadata": {
        "jupyter": {
          "source_hidden": false,
          "outputs_hidden": false
        },
        "nteract": {
          "transient": {
            "deleting": false
          }
        },
        "gather": {
          "logged": 1718368382664
        }
      }
    },
    {
      "cell_type": "code",
      "source": [
        "# note that the below is a code snippet -- you might have to modify the variable values to run it successfully\n",
        "forecasting_job = automl.forecasting(\n",
        "    compute=\"hwtest\",\n",
        "    experiment_name=\"nms-aut0mlModel_WholeData\",\n",
        "    training_data=data_input,\n",
        "    target_column_name=\"Watt\",\n",
        "    primary_metric=\"normalized_root_mean_squared_error\",\n",
        "    n_cross_validations=\"auto\",    \n",
        ")\n",
        "\n",
        "# Limits are all optional\n",
        "forecasting_job.set_limits(\n",
        "    timeout_minutes=360,\n",
        "    trial_timeout_minutes=90,\n",
        "    max_concurrent_trials=2,\n",
        ")\n",
        "\n",
        "# Forecasting specific configuration\n",
        "forecasting_job.set_forecast_settings(\n",
        "    time_column_name=\"five_minute_interval\",\n",
        "    forecast_horizon=12,\n",
        "    time_series_id_column_names='RU',\n",
        "    target_lags='auto', \n",
        "    target_rolling_window_size='auto',\n",
        "    feature_lags='auto',\n",
        "    frequency='H',\n",
        "    target_aggregate_function='sum'\n",
        ")\n",
        "\n",
        "forecasting_job.set_training(\n",
        "    allowed_training_algorithms=[\"ExponentialSmoothing\", \"Prophet\"]\n",
        ")"
      ],
      "outputs": [],
      "execution_count": 7,
      "metadata": {
        "jupyter": {
          "source_hidden": false,
          "outputs_hidden": false
        },
        "nteract": {
          "transient": {
            "deleting": false
          }
        },
        "gather": {
          "logged": 1718368408238
        }
      }
    },
    {
      "cell_type": "code",
      "source": [
        "returned_job = client.jobs.create_or_update(\n",
        "    forecasting_job\n",
        ")\n",
        "\n",
        "print(f\"Created job: {returned_job}\")\n",
        "\n",
        "# Get a URL for the job in the AML studio user interface\n",
        "returned_job.services[\"Studio\"].endpoint"
      ],
      "outputs": [
        {
          "output_type": "stream",
          "name": "stderr",
          "text": "\u001b[32mUploading data-small (76.58 MBs): 100%|██████████| 76583593/76583593 [00:00<00:00, 111490822.37it/s]\n\u001b[39m\n\n"
        },
        {
          "output_type": "stream",
          "name": "stdout",
          "text": "Created job: compute: azureml:hwtest\ncreation_context:\n  created_at: '2024-06-14T12:33:34.544571+00:00'\n  created_by: user07\n  created_by_type: User\ndisplay_name: olive_frog_2gd62v1q32\nexperiment_name: nms-aut0mlModel_WholeData\nforecasting:\n  feature_lags: auto\n  forecast_horizon: 12\n  frequency: H\n  seasonality: auto\n  short_series_handling_config: auto\n  target_aggregate_function: sum\n  target_lags: auto\n  target_rolling_window_size: auto\n  time_column_name: five_minute_interval\n  time_series_id_column_names: '[''RU'']'\n  use_stl: none\nid: azureml:/subscriptions/05f2e45e-7783-4a5b-ad4d-c498610f67fb/resourceGroups/rgfabricpoc/providers/Microsoft.MachineLearningServices/workspaces/ml_test/jobs/olive_frog_2gd62v1q32\nlimits:\n  enable_early_termination: true\n  max_concurrent_trials: 2\n  max_cores_per_trial: -1\n  max_nodes: 1\n  max_trials: 1000\n  timeout_minutes: 360\n  trial_timeout_minutes: 90\nlog_verbosity: info\nn_cross_validations: auto\nname: olive_frog_2gd62v1q32\noutputs: {}\nprimary_metric: normalized_root_mean_squared_error\nproperties: {}\nresources:\n  instance_count: 1\n  shm_size: 2g\nservices:\n  Studio:\n    endpoint: https://ml.azure.com/runs/olive_frog_2gd62v1q32?wsid=/subscriptions/05f2e45e-7783-4a5b-ad4d-c498610f67fb/resourcegroups/rgfabricpoc/workspaces/ml_test&tid=769322b2-fb02-4625-b63d-10cedd4cd7de\n  Tracking:\n    endpoint: azureml://koreacentral.api.azureml.ms/mlflow/v1.0/subscriptions/05f2e45e-7783-4a5b-ad4d-c498610f67fb/resourceGroups/rgfabricpoc/providers/Microsoft.MachineLearningServices/workspaces/ml_test?\nstatus: NotStarted\ntags: {}\ntarget_column_name: Watt\ntask: forecasting\ntraining:\n  allowed_training_algorithms:\n  - exponential_smoothing\n  - prophet\n  enable_dnn_training: false\n  enable_model_explainability: true\n  enable_onnx_compatible_models: false\n  enable_stack_ensemble: false\n  enable_vote_ensemble: true\n  ensemble_model_download_timeout_minutes: 5\n  training_mode: auto\ntraining_data:\n  path: azureml://datastores/workspaceblobstore/paths/LocalUpload/ee3bb0849562c9ed295c642726151c3b/data-small\n  type: mltable\ntype: automl\nvalidation_data:\n  type: mltable\n\n"
        },
        {
          "output_type": "execute_result",
          "execution_count": 8,
          "data": {
            "text/plain": "'https://ml.azure.com/runs/olive_frog_2gd62v1q32?wsid=/subscriptions/05f2e45e-7783-4a5b-ad4d-c498610f67fb/resourcegroups/rgfabricpoc/workspaces/ml_test&tid=769322b2-fb02-4625-b63d-10cedd4cd7de'"
          },
          "metadata": {}
        }
      ],
      "execution_count": 8,
      "metadata": {
        "jupyter": {
          "source_hidden": false,
          "outputs_hidden": false
        },
        "nteract": {
          "transient": {
            "deleting": false
          }
        },
        "gather": {
          "logged": 1718368415463
        }
      }
    }
  ],
  "metadata": {
    "kernelspec": {
      "name": "python310-sdkv2",
      "language": "python",
      "display_name": "Python 3.10 - SDK v2"
    },
    "language_info": {
      "name": "python",
      "version": "3.10.14",
      "mimetype": "text/x-python",
      "codemirror_mode": {
        "name": "ipython",
        "version": 3
      },
      "pygments_lexer": "ipython3",
      "nbconvert_exporter": "python",
      "file_extension": ".py"
    },
    "kernel_info": {
      "name": "python310-sdkv2"
    },
    "microsoft": {
      "host": {
        "AzureML": {
          "notebookHasBeenCompleted": true
        }
      }
    },
    "nteract": {
      "version": "nteract-front-end@1.0.0"
    }
  },
  "nbformat": 4,
  "nbformat_minor": 2
}