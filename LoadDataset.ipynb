{
  "cells": [
    {
      "cell_type": "code",
      "source": [
        "from azure.ai.ml import MLClient\n",
        "from azure.identity import DefaultAzureCredential\n",
        "import mltable\n",
        "import os"
      ],
      "outputs": [],
      "execution_count": 1,
      "metadata": {
        "gather": {
          "logged": 1718265518747
        }
      }
    },
    {
      "cell_type": "code",
      "source": [
        "client = MLClient.from_config(credential=DefaultAzureCredential(), path=\".\")\n",
        "ws = client.workspaces.get(name=client.workspace_name)\n",
        "print(ws.name)"
      ],
      "outputs": [
        {
          "output_type": "stream",
          "name": "stderr",
          "text": "Found the config file in: /mnt/batch/tasks/shared/LS_root/mounts/clusters/e4s-4c32g/code/.azureml/config.json\n"
        },
        {
          "output_type": "stream",
          "name": "stdout",
          "text": "ml_test\n"
        }
      ],
      "execution_count": 2,
      "metadata": {
        "jupyter": {
          "source_hidden": false,
          "outputs_hidden": false
        },
        "nteract": {
          "transient": {
            "deleting": false
          }
        },
        "gather": {
          "logged": 1718265520535
        }
      }
    },
    {
      "cell_type": "code",
      "source": [
        "data_asset = client.data.get(\"nms_itg_240605\", version=\"1\")\n",
        "df = mltable.load(f'azureml:/{data_asset.id}').to_pandas_dataframe()\n",
        "df.head()"
      ],
      "outputs": [
        {
          "output_type": "execute_result",
          "execution_count": 54,
          "data": {
            "text/plain": "  five_minute_interval          RU    RRC  MAX_UE  AirMAC   PRB  Watt\n0  2024-04-28 16:50:00  NUKG33951S   34.0     8.0     NaN  1.51   NaN\n1  2024-04-28 16:50:00  NUKG33630S  121.0    12.0     NaN  2.74   NaN\n2  2024-04-28 16:50:00  NUKG33241S   72.0    13.0     NaN  1.87   NaN\n3  2024-04-28 16:50:00  NUKG33190S   51.0    11.0     NaN  3.13   NaN\n4  2024-04-28 16:50:00  NUKG39569S   45.0    19.0     NaN  4.62   NaN",
            "text/html": "<div>\n<style scoped>\n    .dataframe tbody tr th:only-of-type {\n        vertical-align: middle;\n    }\n\n    .dataframe tbody tr th {\n        vertical-align: top;\n    }\n\n    .dataframe thead th {\n        text-align: right;\n    }\n</style>\n<table border=\"1\" class=\"dataframe\">\n  <thead>\n    <tr style=\"text-align: right;\">\n      <th></th>\n      <th>five_minute_interval</th>\n      <th>RU</th>\n      <th>RRC</th>\n      <th>MAX_UE</th>\n      <th>AirMAC</th>\n      <th>PRB</th>\n      <th>Watt</th>\n    </tr>\n  </thead>\n  <tbody>\n    <tr>\n      <th>0</th>\n      <td>2024-04-28 16:50:00</td>\n      <td>NUKG33951S</td>\n      <td>34.0</td>\n      <td>8.0</td>\n      <td>NaN</td>\n      <td>1.51</td>\n      <td>NaN</td>\n    </tr>\n    <tr>\n      <th>1</th>\n      <td>2024-04-28 16:50:00</td>\n      <td>NUKG33630S</td>\n      <td>121.0</td>\n      <td>12.0</td>\n      <td>NaN</td>\n      <td>2.74</td>\n      <td>NaN</td>\n    </tr>\n    <tr>\n      <th>2</th>\n      <td>2024-04-28 16:50:00</td>\n      <td>NUKG33241S</td>\n      <td>72.0</td>\n      <td>13.0</td>\n      <td>NaN</td>\n      <td>1.87</td>\n      <td>NaN</td>\n    </tr>\n    <tr>\n      <th>3</th>\n      <td>2024-04-28 16:50:00</td>\n      <td>NUKG33190S</td>\n      <td>51.0</td>\n      <td>11.0</td>\n      <td>NaN</td>\n      <td>3.13</td>\n      <td>NaN</td>\n    </tr>\n    <tr>\n      <th>4</th>\n      <td>2024-04-28 16:50:00</td>\n      <td>NUKG39569S</td>\n      <td>45.0</td>\n      <td>19.0</td>\n      <td>NaN</td>\n      <td>4.62</td>\n      <td>NaN</td>\n    </tr>\n  </tbody>\n</table>\n</div>"
          },
          "metadata": {}
        }
      ],
      "execution_count": 54,
      "metadata": {
        "jupyter": {
          "source_hidden": false,
          "outputs_hidden": false
        },
        "nteract": {
          "transient": {
            "deleting": false
          }
        },
        "gather": {
          "logged": 1718267956663
        }
      }
    },
    {
      "cell_type": "code",
      "source": [
        "df['RU']=df['RU'].astype(str)\n",
        "df['RRC']=df['RRC'].fillna(0)\n",
        "df['MAX_UE']=df['MAX_UE'].fillna(0)\n",
        "df['AirMAC']=df['AirMAC'].fillna(0)\n",
        "df['PRB']=df['PRB'].fillna(0)\n",
        "df['Watt']=df['Watt'].fillna(0)\n",
        "df.head()"
      ],
      "outputs": [
        {
          "output_type": "execute_result",
          "execution_count": 55,
          "data": {
            "text/plain": "  five_minute_interval          RU    RRC  MAX_UE  AirMAC   PRB  Watt\n0  2024-04-28 16:50:00  NUKG33951S   34.0     8.0     0.0  1.51   0.0\n1  2024-04-28 16:50:00  NUKG33630S  121.0    12.0     0.0  2.74   0.0\n2  2024-04-28 16:50:00  NUKG33241S   72.0    13.0     0.0  1.87   0.0\n3  2024-04-28 16:50:00  NUKG33190S   51.0    11.0     0.0  3.13   0.0\n4  2024-04-28 16:50:00  NUKG39569S   45.0    19.0     0.0  4.62   0.0",
            "text/html": "<div>\n<style scoped>\n    .dataframe tbody tr th:only-of-type {\n        vertical-align: middle;\n    }\n\n    .dataframe tbody tr th {\n        vertical-align: top;\n    }\n\n    .dataframe thead th {\n        text-align: right;\n    }\n</style>\n<table border=\"1\" class=\"dataframe\">\n  <thead>\n    <tr style=\"text-align: right;\">\n      <th></th>\n      <th>five_minute_interval</th>\n      <th>RU</th>\n      <th>RRC</th>\n      <th>MAX_UE</th>\n      <th>AirMAC</th>\n      <th>PRB</th>\n      <th>Watt</th>\n    </tr>\n  </thead>\n  <tbody>\n    <tr>\n      <th>0</th>\n      <td>2024-04-28 16:50:00</td>\n      <td>NUKG33951S</td>\n      <td>34.0</td>\n      <td>8.0</td>\n      <td>0.0</td>\n      <td>1.51</td>\n      <td>0.0</td>\n    </tr>\n    <tr>\n      <th>1</th>\n      <td>2024-04-28 16:50:00</td>\n      <td>NUKG33630S</td>\n      <td>121.0</td>\n      <td>12.0</td>\n      <td>0.0</td>\n      <td>2.74</td>\n      <td>0.0</td>\n    </tr>\n    <tr>\n      <th>2</th>\n      <td>2024-04-28 16:50:00</td>\n      <td>NUKG33241S</td>\n      <td>72.0</td>\n      <td>13.0</td>\n      <td>0.0</td>\n      <td>1.87</td>\n      <td>0.0</td>\n    </tr>\n    <tr>\n      <th>3</th>\n      <td>2024-04-28 16:50:00</td>\n      <td>NUKG33190S</td>\n      <td>51.0</td>\n      <td>11.0</td>\n      <td>0.0</td>\n      <td>3.13</td>\n      <td>0.0</td>\n    </tr>\n    <tr>\n      <th>4</th>\n      <td>2024-04-28 16:50:00</td>\n      <td>NUKG39569S</td>\n      <td>45.0</td>\n      <td>19.0</td>\n      <td>0.0</td>\n      <td>4.62</td>\n      <td>0.0</td>\n    </tr>\n  </tbody>\n</table>\n</div>"
          },
          "metadata": {}
        }
      ],
      "execution_count": 55,
      "metadata": {
        "jupyter": {
          "source_hidden": false,
          "outputs_hidden": false
        },
        "nteract": {
          "transient": {
            "deleting": false
          }
        },
        "gather": {
          "logged": 1718267958035
        }
      }
    },
    {
      "cell_type": "code",
      "source": [
        "df[df['RU']=='NUKG33630S'].sort_values(['five_minute_interval'])"
      ],
      "outputs": [
        {
          "output_type": "execute_result",
          "execution_count": 72,
          "data": {
            "text/plain": "        five_minute_interval          RU    RRC  MAX_UE  AirMAC   PRB    Watt\n6119083  2024-04-13 00:00:00  NUKG33630S    1.0     1.0    0.87  0.81  298.17\n7849403  2024-04-13 00:05:00  NUKG33630S    0.0     1.0    0.00  0.80  295.92\n7395919  2024-04-13 00:10:00  NUKG33630S    0.0     1.0    0.01  0.80  296.40\n6411005  2024-04-13 00:15:00  NUKG33630S    1.0     2.0    0.81  0.81  298.53\n7403380  2024-04-13 00:20:00  NUKG33630S    0.0     1.0    0.20  0.80  296.45\n...                      ...         ...    ...     ...     ...   ...     ...\n69411    2024-06-05 10:35:00  NUKG33630S  127.0    11.0  172.47  2.49  337.67\n92048    2024-06-05 10:40:00  NUKG33630S  100.0    12.0  141.93  2.06  336.78\n156837   2024-06-05 10:45:00  NUKG33630S   81.0    15.0  129.16  2.13  337.82\n12658    2024-06-05 10:50:00  NUKG33630S   94.0    11.0    0.00  0.00  337.02\n7884395  2024-06-05 10:55:00  NUKG33630S    0.0     0.0    0.00  0.00    0.00\n\n[15396 rows x 7 columns]",
            "text/html": "<div>\n<style scoped>\n    .dataframe tbody tr th:only-of-type {\n        vertical-align: middle;\n    }\n\n    .dataframe tbody tr th {\n        vertical-align: top;\n    }\n\n    .dataframe thead th {\n        text-align: right;\n    }\n</style>\n<table border=\"1\" class=\"dataframe\">\n  <thead>\n    <tr style=\"text-align: right;\">\n      <th></th>\n      <th>five_minute_interval</th>\n      <th>RU</th>\n      <th>RRC</th>\n      <th>MAX_UE</th>\n      <th>AirMAC</th>\n      <th>PRB</th>\n      <th>Watt</th>\n    </tr>\n  </thead>\n  <tbody>\n    <tr>\n      <th>6119083</th>\n      <td>2024-04-13 00:00:00</td>\n      <td>NUKG33630S</td>\n      <td>1.0</td>\n      <td>1.0</td>\n      <td>0.87</td>\n      <td>0.81</td>\n      <td>298.17</td>\n    </tr>\n    <tr>\n      <th>7849403</th>\n      <td>2024-04-13 00:05:00</td>\n      <td>NUKG33630S</td>\n      <td>0.0</td>\n      <td>1.0</td>\n      <td>0.00</td>\n      <td>0.80</td>\n      <td>295.92</td>\n    </tr>\n    <tr>\n      <th>7395919</th>\n      <td>2024-04-13 00:10:00</td>\n      <td>NUKG33630S</td>\n      <td>0.0</td>\n      <td>1.0</td>\n      <td>0.01</td>\n      <td>0.80</td>\n      <td>296.40</td>\n    </tr>\n    <tr>\n      <th>6411005</th>\n      <td>2024-04-13 00:15:00</td>\n      <td>NUKG33630S</td>\n      <td>1.0</td>\n      <td>2.0</td>\n      <td>0.81</td>\n      <td>0.81</td>\n      <td>298.53</td>\n    </tr>\n    <tr>\n      <th>7403380</th>\n      <td>2024-04-13 00:20:00</td>\n      <td>NUKG33630S</td>\n      <td>0.0</td>\n      <td>1.0</td>\n      <td>0.20</td>\n      <td>0.80</td>\n      <td>296.45</td>\n    </tr>\n    <tr>\n      <th>...</th>\n      <td>...</td>\n      <td>...</td>\n      <td>...</td>\n      <td>...</td>\n      <td>...</td>\n      <td>...</td>\n      <td>...</td>\n    </tr>\n    <tr>\n      <th>69411</th>\n      <td>2024-06-05 10:35:00</td>\n      <td>NUKG33630S</td>\n      <td>127.0</td>\n      <td>11.0</td>\n      <td>172.47</td>\n      <td>2.49</td>\n      <td>337.67</td>\n    </tr>\n    <tr>\n      <th>92048</th>\n      <td>2024-06-05 10:40:00</td>\n      <td>NUKG33630S</td>\n      <td>100.0</td>\n      <td>12.0</td>\n      <td>141.93</td>\n      <td>2.06</td>\n      <td>336.78</td>\n    </tr>\n    <tr>\n      <th>156837</th>\n      <td>2024-06-05 10:45:00</td>\n      <td>NUKG33630S</td>\n      <td>81.0</td>\n      <td>15.0</td>\n      <td>129.16</td>\n      <td>2.13</td>\n      <td>337.82</td>\n    </tr>\n    <tr>\n      <th>12658</th>\n      <td>2024-06-05 10:50:00</td>\n      <td>NUKG33630S</td>\n      <td>94.0</td>\n      <td>11.0</td>\n      <td>0.00</td>\n      <td>0.00</td>\n      <td>337.02</td>\n    </tr>\n    <tr>\n      <th>7884395</th>\n      <td>2024-06-05 10:55:00</td>\n      <td>NUKG33630S</td>\n      <td>0.0</td>\n      <td>0.0</td>\n      <td>0.00</td>\n      <td>0.00</td>\n      <td>0.00</td>\n    </tr>\n  </tbody>\n</table>\n<p>15396 rows × 7 columns</p>\n</div>"
          },
          "metadata": {}
        }
      ],
      "execution_count": 72,
      "metadata": {
        "jupyter": {
          "source_hidden": false,
          "outputs_hidden": false
        },
        "nteract": {
          "transient": {
            "deleting": false
          }
        },
        "gather": {
          "logged": 1718268351766
        }
      }
    },
    {
      "cell_type": "code",
      "source": [
        "df['RU'].unique().size"
      ],
      "outputs": [
        {
          "output_type": "execute_result",
          "execution_count": 83,
          "data": {
            "text/plain": "546"
          },
          "metadata": {}
        }
      ],
      "execution_count": 83,
      "metadata": {
        "jupyter": {
          "source_hidden": false,
          "outputs_hidden": false
        },
        "nteract": {
          "transient": {
            "deleting": false
          }
        },
        "gather": {
          "logged": 1718269023137
        }
      }
    },
    {
      "cell_type": "code",
      "source": [
        "data_folder = './data-small/'\n",
        "os.makedirs(data_folder, exist_ok=True)\n",
        "data_path = os.path.join(data_folder, \"nmsdatamini.parquet\")\n",
        "df[df['RU']=='NUKG33630S'].sort_values(['five_minute_interval']).to_parquet(data_path, index=False,row_group_size=50, engine=\"pyarrow\")\n",
        "paths = [{\"file\": data_path}]\n",
        "mltp = mltable.from_parquet_files(paths)\n",
        "mltp.save(\"./data-small/\")"
      ],
      "outputs": [],
      "execution_count": 74,
      "metadata": {
        "jupyter": {
          "source_hidden": false,
          "outputs_hidden": false
        },
        "nteract": {
          "transient": {
            "deleting": false
          }
        },
        "gather": {
          "logged": 1718268394861
        }
      }
    },
    {
      "cell_type": "code",
      "source": [
        "data_folder = './csv-small/'\n",
        "os.makedirs(data_folder, exist_ok=True)\n",
        "data_path = os.path.join(data_folder, \"nmsdatamini.csv\")\n",
        "df[df['RU']=='NUKG33630S'].sort_values(['five_minute_interval']).to_csv(data_path, index=False)\n",
        "paths = [{\"file\": data_path}]\n",
        "mltc = mltable.from_delimited_files(paths)\n",
        "mltc.save(\"./csv-small/\")"
      ],
      "outputs": [],
      "execution_count": 75,
      "metadata": {
        "jupyter": {
          "source_hidden": false,
          "outputs_hidden": false
        },
        "nteract": {
          "transient": {
            "deleting": false
          }
        },
        "gather": {
          "logged": 1718268397875
        }
      }
    },
    {
      "cell_type": "code",
      "source": [
        "from azure.ai.ml import automl, Input\n",
        "from azure.ai.ml.constants import AssetTypes, InputOutputModes, TabularTrainingMode\n",
        "from azure.ai.ml.entities import Data, AmlCompute\n"
      ],
      "outputs": [],
      "execution_count": 76,
      "metadata": {
        "jupyter": {
          "source_hidden": false,
          "outputs_hidden": false
        },
        "nteract": {
          "transient": {
            "deleting": false
          }
        },
        "gather": {
          "logged": 1718268399174
        }
      }
    },
    {
      "cell_type": "code",
      "source": [
        "compute_cluster = client.compute.get('hwtest')"
      ],
      "outputs": [],
      "execution_count": 77,
      "metadata": {
        "jupyter": {
          "source_hidden": false,
          "outputs_hidden": false
        },
        "nteract": {
          "transient": {
            "deleting": false
          }
        },
        "gather": {
          "logged": 1718268400257
        }
      }
    },
    {
      "cell_type": "code",
      "source": [
        "compute_cluster"
      ],
      "outputs": [
        {
          "output_type": "execute_result",
          "execution_count": 78,
          "data": {
            "text/plain": "AmlCompute({'type': 'amlcompute', 'created_on': None, 'provisioning_state': 'Succeeded', 'provisioning_errors': None, 'name': 'hwtest', 'description': None, 'tags': None, 'properties': {}, 'print_as_yaml': False, 'id': '/subscriptions/05f2e45e-7783-4a5b-ad4d-c498610f67fb/resourceGroups/rgfabricpoc/providers/Microsoft.MachineLearningServices/workspaces/ml_test/computes/hwtest', 'Resource__source_path': '', 'base_path': '/mnt/batch/tasks/shared/LS_root/mounts/clusters/e4s-4c32g/code/Users/user07', 'creation_context': None, 'serialize': <msrest.serialization.Serializer object at 0x7f82e20c8160>, 'resource_id': None, 'location': 'koreacentral', 'size': 'Standard_E4s_v3', 'min_instances': 0, 'max_instances': 2, 'idle_time_before_scale_down': 120.0, 'identity': None, 'ssh_public_access_enabled': False, 'ssh_settings': None, 'network_settings': <azure.ai.ml.entities._compute.compute.NetworkSettings object at 0x7f82e20c89d0>, 'tier': 'dedicated', 'enable_node_public_ip': True, 'subnet': None})"
          },
          "metadata": {}
        }
      ],
      "execution_count": 78,
      "metadata": {
        "jupyter": {
          "source_hidden": false,
          "outputs_hidden": false
        },
        "nteract": {
          "transient": {
            "deleting": false
          }
        },
        "gather": {
          "logged": 1718268402014
        }
      }
    },
    {
      "cell_type": "code",
      "source": [
        "from azure.ai.ml import automl, Input\n",
        "from azure.ai.ml.constants import AssetTypes, InputOutputModes, TabularTrainingMode\n",
        "from azure.ai.ml.entities import Data, AmlCompute"
      ],
      "outputs": [],
      "execution_count": null,
      "metadata": {
        "jupyter": {
          "source_hidden": false,
          "outputs_hidden": false
        },
        "nteract": {
          "transient": {
            "deleting": false
          }
        }
      }
    },
    {
      "cell_type": "code",
      "source": [
        "data_input = Input(\n",
        "    type=AssetTypes.MLTABLE,\n",
        "    path=\"./data/\"\n",
        ")\n"
      ],
      "outputs": [],
      "execution_count": 85,
      "metadata": {
        "jupyter": {
          "source_hidden": false,
          "outputs_hidden": false
        },
        "nteract": {
          "transient": {
            "deleting": false
          }
        },
        "gather": {
          "logged": 1718269760777
        }
      }
    },
    {
      "cell_type": "code",
      "source": [
        "train_data = Data(\n",
        "    path='./csv-small/',\n",
        "    type=AssetTypes.MLTABLE,\n",
        "    name='nms-dataset-csv-mini',\n",
        "    version='4'\n",
        ")\n",
        "\n",
        "client.data.create_or_update(train_data)"
      ],
      "outputs": [
        {
          "output_type": "stream",
          "name": "stderr",
          "text": "\rUploading csv-small (0.89 MBs):   0%|          | 0/889287 [00:00<?, ?it/s]\rUploading csv-small (0.89 MBs):   0%|          | 636/889287 [00:00<02:40, 5552.76it/s]\rUploading csv-small (0.89 MBs): 100%|██████████| 889287/889287 [00:00<00:00, 7489553.65it/s]\n\n\n"
        },
        {
          "output_type": "execute_result",
          "execution_count": 80,
          "data": {
            "text/plain": "Data({'path': 'azureml://subscriptions/05f2e45e-7783-4a5b-ad4d-c498610f67fb/resourcegroups/rgfabricpoc/workspaces/ml_test/datastores/workspaceblobstore/paths/LocalUpload/c68e84d1252e89bd7dbced9469429b7d/csv-small/', 'skip_validation': False, 'mltable_schema_url': None, 'referenced_uris': ['nmsdatamini.csv'], 'type': 'mltable', 'is_anonymous': False, 'auto_increment_version': False, 'auto_delete_setting': None, 'name': 'nms-dataset-csv-mini', 'description': None, 'tags': {}, 'properties': {}, 'print_as_yaml': False, 'id': '/subscriptions/05f2e45e-7783-4a5b-ad4d-c498610f67fb/resourceGroups/rgfabricpoc/providers/Microsoft.MachineLearningServices/workspaces/ml_test/data/nms-dataset-csv-mini/versions/4', 'Resource__source_path': '', 'base_path': '/mnt/batch/tasks/shared/LS_root/mounts/clusters/e4s-4c32g/code/Users/user07', 'creation_context': <azure.ai.ml.entities._system_data.SystemData object at 0x7f82e20d8fd0>, 'serialize': <msrest.serialization.Serializer object at 0x7f82e20d88b0>, 'version': '4', 'latest_version': None, 'datastore': None})"
          },
          "metadata": {}
        }
      ],
      "execution_count": 80,
      "metadata": {
        "jupyter": {
          "source_hidden": false,
          "outputs_hidden": false
        },
        "nteract": {
          "transient": {
            "deleting": false
          }
        },
        "gather": {
          "logged": 1718268409070
        }
      }
    },
    {
      "cell_type": "code",
      "source": [
        "df = pd.read_parquet(\"../user06/data/004_impute_s1ap_mart/s1ap_1year_sum_mart_impute.parquet\")"
      ],
      "outputs": [],
      "execution_count": null,
      "metadata": {
        "jupyter": {
          "source_hidden": false,
          "outputs_hidden": false
        },
        "nteract": {
          "transient": {
            "deleting": false
          }
        }
      }
    },
    {
      "cell_type": "markdown",
      "source": [
        "## Setup AutoML Forecasting Job"
      ],
      "metadata": {
        "nteract": {
          "transient": {
            "deleting": false
          }
        }
      }
    },
    {
      "cell_type": "code",
      "source": [
        "# general job parameters\n",
        "timeout_minutes = 10\n",
        "trial_timeout_minutes = 5\n",
        "exp_name = \"nms-test\"\n",
        "target_column_name = \"Watt\"\n",
        "forecast_horizon=5\n",
        "time_column_name = \"five_minute_interval\"\n",
        "time_series_id='RU'"
      ],
      "outputs": [],
      "execution_count": 86,
      "metadata": {
        "jupyter": {
          "source_hidden": false,
          "outputs_hidden": false
        },
        "nteract": {
          "transient": {
            "deleting": false
          }
        },
        "gather": {
          "logged": 1718269766029
        }
      }
    },
    {
      "cell_type": "code",
      "source": [
        "forecasting_job = automl.forecasting(\n",
        "    experiment_name=exp_name,\n",
        "    training_data=data_input,\n",
        "    compute=\"hwtest\",\n",
        "    target_column_name=target_column_name,\n",
        "    primary_metric=\"NormalizedRootMeanSquaredError\",\n",
        "    n_cross_validations=\"auto\",\n",
        "    enable_model_explainability=True,\n",
        ")"
      ],
      "outputs": [],
      "execution_count": 87,
      "metadata": {
        "jupyter": {
          "source_hidden": false,
          "outputs_hidden": false
        },
        "nteract": {
          "transient": {
            "deleting": false
          }
        },
        "gather": {
          "logged": 1718269766172
        }
      }
    },
    {
      "cell_type": "code",
      "source": [
        "# Limits are all optional\n",
        "forecasting_job.set_limits(\n",
        "    timeout_minutes=120,\n",
        "    trial_timeout_minutes=30,\n",
        "    enable_early_termination=True,\n",
        "    max_concurrent_trials=2,\n",
        "    max_nodes=2,\n",
        ")\n",
        "\n",
        "# Specialized properties for Time Series Forecasting training\n",
        "forecasting_job.set_forecast_settings(\n",
        "    time_column_name=time_column_name,\n",
        "    forecast_horizon=forecast_horizon,\n",
        "    time_series_id_column_names=time_series_id,\n",
        "    frequency=\"5min\",\n",
        "    target_lags=\"auto\",\n",
        "    target_rolling_window_size='auto',\n",
        ")\n",
        "\n",
        "# Training properties are optional\n",
        "forecasting_job.set_training(blocked_training_algorithms=[\"ExtremeRandomTrees\"])"
      ],
      "outputs": [],
      "execution_count": 88,
      "metadata": {
        "jupyter": {
          "source_hidden": false,
          "outputs_hidden": false
        },
        "nteract": {
          "transient": {
            "deleting": false
          }
        },
        "gather": {
          "logged": 1718269766331
        }
      }
    },
    {
      "cell_type": "code",
      "source": [
        "# Submit the AutoML job\n",
        "returned_job = client.jobs.create_or_update(\n",
        "    forecasting_job\n",
        ")  # submit the job to the backend\n",
        "\n",
        "print(f\"Created job: {returned_job}\")"
      ],
      "outputs": [
        {
          "output_type": "stream",
          "name": "stderr",
          "text": "Your file exceeds 100 MB. If you experience low speeds, latency, or broken connections, we recommend using the AzCopyv10 tool for this file transfer.\n\nExample: azcopy copy '/mnt/batch/tasks/shared/LS_root/mounts/clusters/e4s-4c32g/code/Users/user07/data' 'https://mltestkt.blob.core.windows.net/azureml-blobstore-e4a79d34-4e7f-4ac2-b1a6-528dc447c82a/LocalUpload/6b1f51900967aeb9fdfd9cd6c794eb76/data' \n\nSee https://docs.microsoft.com/azure/storage/common/storage-use-azcopy-v10 for more information.\n"
        },
        {
          "output_type": "stream",
          "name": "stdout",
          "text": "Created job: compute: azureml:hwtest\ncreation_context:\n  created_at: '2024-06-13T09:09:35.568187+00:00'\n  created_by: user07\n  created_by_type: User\ndisplay_name: green_lychee_59t1cn3r4f\nexperiment_name: nms-test\nforecasting:\n  feature_lags: none\n  forecast_horizon: 5\n  frequency: 5min\n  seasonality: auto\n  short_series_handling_config: auto\n  target_aggregate_function: none\n  target_lags: auto\n  target_rolling_window_size: auto\n  time_column_name: five_minute_interval\n  time_series_id_column_names: '[''RU'']'\n  use_stl: none\nid: azureml:/subscriptions/05f2e45e-7783-4a5b-ad4d-c498610f67fb/resourceGroups/rgfabricpoc/providers/Microsoft.MachineLearningServices/workspaces/ml_test/jobs/green_lychee_59t1cn3r4f\nlimits:\n  enable_early_termination: true\n  max_concurrent_trials: 2\n  max_cores_per_trial: -1\n  max_nodes: 2\n  max_trials: 1000\n  timeout_minutes: 120\n  trial_timeout_minutes: 30\nlog_verbosity: info\nn_cross_validations: auto\nname: green_lychee_59t1cn3r4f\noutputs: {}\nprimary_metric: normalized_root_mean_squared_error\nproperties: {}\nresources:\n  instance_count: 1\n  shm_size: 2g\nservices:\n  Studio:\n    endpoint: https://ml.azure.com/runs/green_lychee_59t1cn3r4f?wsid=/subscriptions/05f2e45e-7783-4a5b-ad4d-c498610f67fb/resourcegroups/rgfabricpoc/workspaces/ml_test&tid=769322b2-fb02-4625-b63d-10cedd4cd7de\n  Tracking:\n    endpoint: azureml://koreacentral.api.azureml.ms/mlflow/v1.0/subscriptions/05f2e45e-7783-4a5b-ad4d-c498610f67fb/resourceGroups/rgfabricpoc/providers/Microsoft.MachineLearningServices/workspaces/ml_test?\nstatus: NotStarted\ntags: {}\ntarget_column_name: Watt\ntask: forecasting\ntraining:\n  blocked_training_algorithms:\n  - extreme_random_trees\n  enable_dnn_training: false\n  enable_model_explainability: true\n  enable_onnx_compatible_models: false\n  enable_stack_ensemble: false\n  enable_vote_ensemble: true\n  ensemble_model_download_timeout_minutes: 5\n  training_mode: auto\ntraining_data:\n  path: azureml://datastores/workspaceblobstore/paths/LocalUpload/6b1f51900967aeb9fdfd9cd6c794eb76/data\n  type: mltable\ntype: automl\nvalidation_data:\n  type: mltable\n\n"
        }
      ],
      "execution_count": 89,
      "metadata": {
        "jupyter": {
          "source_hidden": false,
          "outputs_hidden": false
        },
        "nteract": {
          "transient": {
            "deleting": false
          }
        },
        "gather": {
          "logged": 1718269776576
        }
      }
    },
    {
      "cell_type": "code",
      "source": [
        "client.jobs.stream(returned_job.name)"
      ],
      "outputs": [
        {
          "output_type": "stream",
          "name": "stdout",
          "text": "RunId: green_lychee_59t1cn3r4f\nWeb View: https://ml.azure.com/runs/green_lychee_59t1cn3r4f?wsid=/subscriptions/05f2e45e-7783-4a5b-ad4d-c498610f67fb/resourcegroups/rgfabricpoc/workspaces/ml_test\n"
        }
      ],
      "execution_count": 90,
      "metadata": {
        "jupyter": {
          "source_hidden": false,
          "outputs_hidden": false
        },
        "nteract": {
          "transient": {
            "deleting": false
          }
        },
        "gather": {
          "logged": 1718267865512
        }
      }
    }
  ],
  "metadata": {
    "kernelspec": {
      "name": "python310-sdkv2",
      "language": "python",
      "display_name": "Python 3.10 - SDK v2"
    },
    "language_info": {
      "name": "python",
      "version": "3.10.11",
      "mimetype": "text/x-python",
      "codemirror_mode": {
        "name": "ipython",
        "version": 3
      },
      "pygments_lexer": "ipython3",
      "nbconvert_exporter": "python",
      "file_extension": ".py"
    },
    "microsoft": {
      "ms_spell_check": {
        "ms_spell_check_language": "en"
      },
      "host": {
        "AzureML": {
          "notebookHasBeenCompleted": true
        }
      }
    },
    "kernel_info": {
      "name": "python310-sdkv2"
    },
    "nteract": {
      "version": "nteract-front-end@1.0.0"
    }
  },
  "nbformat": 4,
  "nbformat_minor": 2
}