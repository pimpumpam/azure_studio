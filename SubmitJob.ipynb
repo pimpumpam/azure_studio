{
  "cells": [
    {
      "cell_type": "code",
      "source": [
        "from azure.ai.ml import MLClient\n",
        "from azure.identity import DefaultAzureCredential\n",
        "import mltable\n",
        "import os"
      ],
      "outputs": [],
      "execution_count": 1,
      "metadata": {
        "gather": {
          "logged": 1718264585440
        }
      }
    },
    {
      "cell_type": "code",
      "source": [
        "client = MLClient.from_config(credential=DefaultAzureCredential(), path=\".\")\n",
        "ws = client.workspaces.get(name=client.workspace_name)\n",
        "print(ws.name)"
      ],
      "outputs": [
        {
          "output_type": "stream",
          "name": "stderr",
          "text": "Found the config file in: /mnt/batch/tasks/shared/LS_root/mounts/clusters/e4s-4c32g/code/.azureml/config.json\n"
        },
        {
          "output_type": "stream",
          "name": "stdout",
          "text": "ml_test\n"
        }
      ],
      "execution_count": 2,
      "metadata": {
        "jupyter": {
          "source_hidden": false,
          "outputs_hidden": false
        },
        "nteract": {
          "transient": {
            "deleting": false
          }
        },
        "gather": {
          "logged": 1718264586845
        }
      }
    },
    {
      "cell_type": "code",
      "source": [
        "data_asset = client.data.get(\"nms_itg_240605\", version=\"1\")\n",
        "df = mltable.load(f'azureml:/{data_asset.id}').to_pandas_dataframe()\n",
        "df.head()"
      ],
      "outputs": [
        {
          "output_type": "execute_result",
          "execution_count": 3,
          "data": {
            "text/plain": "  five_minute_interval          RU    RRC  MAX_UE  AirMAC   PRB  Watt\n0  2024-04-28 16:50:00  NUKG33951S   34.0     8.0     NaN  1.51   NaN\n1  2024-04-28 16:50:00  NUKG33630S  121.0    12.0     NaN  2.74   NaN\n2  2024-04-28 16:50:00  NUKG33241S   72.0    13.0     NaN  1.87   NaN\n3  2024-04-28 16:50:00  NUKG33190S   51.0    11.0     NaN  3.13   NaN\n4  2024-04-28 16:50:00  NUKG39569S   45.0    19.0     NaN  4.62   NaN",
            "text/html": "<div>\n<style scoped>\n    .dataframe tbody tr th:only-of-type {\n        vertical-align: middle;\n    }\n\n    .dataframe tbody tr th {\n        vertical-align: top;\n    }\n\n    .dataframe thead th {\n        text-align: right;\n    }\n</style>\n<table border=\"1\" class=\"dataframe\">\n  <thead>\n    <tr style=\"text-align: right;\">\n      <th></th>\n      <th>five_minute_interval</th>\n      <th>RU</th>\n      <th>RRC</th>\n      <th>MAX_UE</th>\n      <th>AirMAC</th>\n      <th>PRB</th>\n      <th>Watt</th>\n    </tr>\n  </thead>\n  <tbody>\n    <tr>\n      <th>0</th>\n      <td>2024-04-28 16:50:00</td>\n      <td>NUKG33951S</td>\n      <td>34.0</td>\n      <td>8.0</td>\n      <td>NaN</td>\n      <td>1.51</td>\n      <td>NaN</td>\n    </tr>\n    <tr>\n      <th>1</th>\n      <td>2024-04-28 16:50:00</td>\n      <td>NUKG33630S</td>\n      <td>121.0</td>\n      <td>12.0</td>\n      <td>NaN</td>\n      <td>2.74</td>\n      <td>NaN</td>\n    </tr>\n    <tr>\n      <th>2</th>\n      <td>2024-04-28 16:50:00</td>\n      <td>NUKG33241S</td>\n      <td>72.0</td>\n      <td>13.0</td>\n      <td>NaN</td>\n      <td>1.87</td>\n      <td>NaN</td>\n    </tr>\n    <tr>\n      <th>3</th>\n      <td>2024-04-28 16:50:00</td>\n      <td>NUKG33190S</td>\n      <td>51.0</td>\n      <td>11.0</td>\n      <td>NaN</td>\n      <td>3.13</td>\n      <td>NaN</td>\n    </tr>\n    <tr>\n      <th>4</th>\n      <td>2024-04-28 16:50:00</td>\n      <td>NUKG39569S</td>\n      <td>45.0</td>\n      <td>19.0</td>\n      <td>NaN</td>\n      <td>4.62</td>\n      <td>NaN</td>\n    </tr>\n  </tbody>\n</table>\n</div>"
          },
          "metadata": {}
        }
      ],
      "execution_count": 3,
      "metadata": {
        "jupyter": {
          "source_hidden": false,
          "outputs_hidden": false
        },
        "nteract": {
          "transient": {
            "deleting": false
          }
        },
        "gather": {
          "logged": 1718264602116
        }
      }
    }
  ],
  "metadata": {
    "kernelspec": {
      "name": "python310-sdkv2",
      "language": "python",
      "display_name": "Python 3.10 - SDK v2"
    },
    "language_info": {
      "name": "python",
      "version": "3.10.11",
      "mimetype": "text/x-python",
      "codemirror_mode": {
        "name": "ipython",
        "version": 3
      },
      "pygments_lexer": "ipython3",
      "nbconvert_exporter": "python",
      "file_extension": ".py"
    },
    "microsoft": {
      "ms_spell_check": {
        "ms_spell_check_language": "en"
      }
    },
    "kernel_info": {
      "name": "python310-sdkv2"
    },
    "nteract": {
      "version": "nteract-front-end@1.0.0"
    }
  },
  "nbformat": 4,
  "nbformat_minor": 2
}